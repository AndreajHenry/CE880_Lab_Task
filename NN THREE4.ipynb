{
  "nbformat": 4,
  "nbformat_minor": 0,
  "metadata": {
    "colab": {
      "provenance": [],
      "authorship_tag": "ABX9TyOStaChb0qYRKdUYnpMGGha",
      "include_colab_link": true
    },
    "kernelspec": {
      "name": "python3",
      "display_name": "Python 3"
    },
    "language_info": {
      "name": "python"
    }
  },
  "cells": [
    {
      "cell_type": "markdown",
      "metadata": {
        "id": "view-in-github",
        "colab_type": "text"
      },
      "source": [
        "<a href=\"https://colab.research.google.com/github/AndreajHenry/CE880_Lab_Task/blob/main/NN%20THREE4.ipynb\" target=\"_parent\"><img src=\"https://colab.research.google.com/assets/colab-badge.svg\" alt=\"Open In Colab\"/></a>"
      ]
    },
    {
      "cell_type": "code",
      "execution_count": null,
      "metadata": {
        "id": "kGVEK01KPGl3"
      },
      "outputs": [],
      "source": [
        "import panda as pd\n",
        "import numpys as np\n",
        "import matplotlib.pylot as plt"
      ]
    },
    {
      "cell_type": "code",
      "source": [
        "# Z (linear hypothesis) - Z = W*X + b ,\n",
        "# W - weight matrix, b- bias vector, X- Input\n",
        "\n",
        "def sigmoid(Z):\n",
        "\tA = 1/(1+np.exp(np.dot(-1, Z)))\n",
        "    cache = (Z)\n",
        "\n",
        "    return A, cache"
      ],
      "metadata": {
        "id": "9QHB97nyVXKk"
      },
      "execution_count": null,
      "outputs": []
    },
    {
      "cell_type": "code",
      "source": [
        "#data preprocessing\n",
        "#load data in panda dataset\n",
        "data = pd.read_csv('ce889_datacollection.csv')\n",
        "\n",
        "X = data.drop('target_column', axis=1)\n",
        "y = data['target_column']\n",
        "\n",
        "X_train, X_test, y_train, y_test = train_test_split(X, y, test_size=0.2, random_state=42)\n"
      ],
      "metadata": {
        "id": "OE2n4EBGjFlk"
      },
      "execution_count": null,
      "outputs": []
    },
    {
      "cell_type": "code",
      "source": [
        "#transpose input and output data\n",
        "input_data = transpose(imput_data)\n",
        "output_data = transpose(output_data)"
      ],
      "metadata": {
        "id": "W4emratnreqt"
      },
      "execution_count": null,
      "outputs": []
    },
    {
      "cell_type": "code",
      "source": [
        "#extract input and output data\n",
        "#x1 and x2 columns:\n",
        "inout_data = data(:, 1:2):\n",
        "#y1 and y2 columns:\n",
        "output_data = data(:, 3,4):"
      ],
      "metadata": {
        "id": "Y2wEHcNjmFTr"
      },
      "execution_count": null,
      "outputs": []
    },
    {
      "cell_type": "code",
      "source": [
        "#data normalisation\n",
        "#normalised data= 0,1\n",
        "(X - min) / (max - min)\n"
      ],
      "metadata": {
        "id": "nytb9HoCjLmL"
      },
      "execution_count": null,
      "outputs": []
    },
    {
      "cell_type": "code",
      "source": [
        "class my_NN(object):\n",
        "    def train(self, X, y, iteration=33):\n",
        "        for i in range(iteration):\n",
        "            y_hat = self._forward_propagation(X)\n",
        "            loss = self._loss(y_hat, y)\n",
        "            self._backward_propagation(X,y)\n",
        "            self._update()\n",
        "            if i%10==0:\n",
        "                print(\"loss: \", loss)\n",
        "\n",
        "    def predict(self, X):\n",
        "        y_hat = self._forward_propagation(X)\n",
        "        y_hat = [1 if i[0] >= 0.5 else 0 for i in y_hat.T]\n",
        "        return np.array(y_hat)\n",
        "\n",
        "    def score(self, predict, y):\n",
        "        cnt = np.sum(predict==y)\n",
        "        return (cnt/len(y))*100\n",
        "view raw"
      ],
      "metadata": {
        "id": "i6finSuRVNBn"
      },
      "execution_count": null,
      "outputs": []
    },
    {
      "cell_type": "code",
      "source": [
        "#cost function. decreased cost function, increased model performance\n",
        "def cost_function(A, Y):\n",
        "    m = Y.shape[1]\n",
        "\n",
        "    cost = (-1/m)*(np.dot(np.log(A), Y.T) + np.dot(log(1-A), 1-Y.T))\n",
        "\n",
        "    return cost"
      ],
      "metadata": {
        "id": "y6cu6kGeVf2d"
      },
      "execution_count": null,
      "outputs": []
    },
    {
      "cell_type": "code",
      "source": [
        "#train nn\n",
        "def train(X, Y, layer_dims, epochs, lr):\n",
        "    params = init_params(layer_dims)\n",
        "    cost_history = []\n",
        "\n",
        "    return params, cost_history\n",
        "\n",
        "#train nn model\n",
        "net = feedforward(3,'trainingdm'): #parameters: number of neurons in hidden layer\n",
        "#  training function: trainingdm (gradient decent with momentum) back propagation neural network\n",
        "\n",
        "net.train.Param.lr = 0.5: #alpha value (used in sigmoid activation function feed forward)\n",
        "net.train.Param.mc = 0.8: #momentum value (used in back propagation during weight update)\n",
        "net.train.Param.min_grad = le-5: #eta value (used in weight update)\n",
        "\n",
        "net = train(net, input_data, output_data): #train network on input and output data\n",
        "y = net(input_data) #get predicted outputs\n",
        "\n",
        "\n",
        "\n",
        "    return params, cost_history"
      ],
      "metadata": {
        "id": "wtE6PT04hICk"
      },
      "execution_count": null,
      "outputs": []
    }
  ]
}